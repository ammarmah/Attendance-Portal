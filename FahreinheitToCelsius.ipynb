{
  "nbformat": 4,
  "nbformat_minor": 0,
  "metadata": {
    "colab": {
      "name": "FahreinheitToCelsius.ipynb",
      "version": "0.3.2",
      "provenance": [],
      "include_colab_link": true
    },
    "kernelspec": {
      "name": "python3",
      "display_name": "Python 3"
    }
  },
  "cells": [
    {
      "cell_type": "markdown",
      "metadata": {
        "id": "view-in-github",
        "colab_type": "text"
      },
      "source": [
        "<a href=\"https://colab.research.google.com/github/ammarmah/Attendance-Portal/blob/master/FahreinheitToCelsius.ipynb\" target=\"_parent\"><img src=\"https://colab.research.google.com/assets/colab-badge.svg\" alt=\"Open In Colab\"/></a>"
      ]
    },
    {
      "cell_type": "code",
      "metadata": {
        "id": "4m9YKvHW53H4",
        "colab_type": "code",
        "outputId": "57dda410-bf33-4ee4-8ec9-4f5e871fb886",
        "colab": {
          "base_uri": "https://localhost:8080/",
          "height": 67
        }
      },
      "source": [
        "#import dependencies\n",
        "import tensorflow as tf\n",
        "tf.logging.set_verbosity(tf.logging.ERROR)\n",
        "#tell the tensorflow to show error messages only\n",
        "#why ? I don't know :)\n",
        "import numpy as np\n",
        "\n",
        "#set-up TRAINING data\n",
        "celsius_q = np.array([-40, -10, 0, 8, 15, 22, 38], dtype = float)\n",
        "fahrenheit_a = np.array([-40, 14, 32, 46, 59, 72, 100], dtype = float)\n",
        "\n",
        "#CREATE A MODEL\n",
        "\n",
        "#BUILD a layer\n",
        "l0 = tf.keras.layers.Dense(units= 1, input_shape=[1])\n",
        "\n",
        "#assemble the layer(s) into the model\n",
        "model = tf.keras.Sequential([l0])\n",
        "\n",
        "#COMPILE the model, with loss and optimizer functions\n",
        "#loss fn: way of measuring how far from desired outcomes are the predictions\n",
        "#optimizer fn: way of adjusting internal values in order to reduce the loss\n",
        "model.compile(loss = \"mean_squared_error\", optimizer = tf.keras.optimizers.Adam(0.1))\n",
        "\n",
        "#TRAIN the model\n",
        "#training a model is an act of calculating current loss of a model and then improving it\n",
        "history = model.fit(celsius_q, fahrenheit_a, epochs = 500, verbose = False)\n",
        "print(\"Finished training the model\")\n",
        "\n",
        "#use the model to PREDICT values\n",
        "print(model.predict([100.00]))\n",
        "\n",
        "#looking at the layer weights\n",
        "#print internal variables of the dense layer\n",
        "print(\"these are the layer variables: {}\".format(l0.get_weights()))\n",
        "\n",
        "\n"
      ],
      "execution_count": 1,
      "outputs": [
        {
          "output_type": "stream",
          "text": [
            "Finished training the model\n",
            "[[211.32167]]\n",
            "these are the layer variables: [array([[1.8228118]], dtype=float32), array([29.040478], dtype=float32)]\n"
          ],
          "name": "stdout"
        }
      ]
    },
    {
      "cell_type": "markdown",
      "metadata": {
        "id": "CMpamvlL7SNc",
        "colab_type": "text"
      },
      "source": [
        "The code presented altogether:\n",
        "\n",
        "l0 = tf.keras.layers.Dense(units=1, input_shape=[1]) \n",
        "\n",
        "model = tf.keras.Sequential([l0])\n",
        "\n",
        "model.compile(loss='mean_squared_error', optimizer=tf.keras.optimizers.Adam(0.1))\n",
        "\n",
        "history = model.fit(celsius_q, fahrenheit_a, epochs=500, verbose=False)\n",
        "\n",
        "model.predict([100.0])"
      ]
    },
    {
      "cell_type": "code",
      "metadata": {
        "id": "6JzzUUQZOsy5",
        "colab_type": "code",
        "outputId": "f5c49451-5f77-4406-b895-083a4dfa81f2",
        "colab": {
          "base_uri": "https://localhost:8080/",
          "height": 252
        }
      },
      "source": [
        "l0 = tf.keras.layers.Dense(units=4, input_shape=[1])  \n",
        "l1 = tf.keras.layers.Dense(units=4)  \n",
        "l2 = tf.keras.layers.Dense(units=1)  \n",
        "model = tf.keras.Sequential([l0, l1, l2])\n",
        "model.compile(loss='mean_squared_error', optimizer=tf.keras.optimizers.Adam(0.1))\\\n",
        "print(\"These are the l2 variables: {}\".format(l2.get_weights()))"
      ],
      "execution_count": 0,
      "outputs": [
        {
          "output_type": "stream",
          "text": [
            "Finished training the model\n",
            "[[211.74744]]\n",
            "Model predicts that 100 degrees Celsius is: [[211.74744]] degrees Fahrenheit\n",
            "These are the l0 variables: [array([[-0.47587162, -0.68351215, -0.33959073,  0.4437187 ]],\n",
            "      dtype=float32), array([-3.3073187, -3.512806 ,  2.4623299, -1.6867604], dtype=float32)]\n",
            "These are the l1 variables: [array([[ 0.06830376, -1.4053273 , -0.78293496, -0.85982716],\n",
            "       [ 0.712124  , -1.3395228 , -0.14768898, -1.2183595 ],\n",
            "       [-0.5457005 ,  1.171336  ,  0.4504711 , -0.00613551],\n",
            "       [ 0.2586364 , -0.5645044 , -0.555727  , -0.44081947]],\n",
            "      dtype=float32), array([-1.9339823 ,  3.4998841 ,  0.10175309,  3.3938904 ], dtype=float32)]\n",
            "These are the l2 variables: [array([[-0.2437874 ],\n",
            "       [ 1.2139989 ],\n",
            "       [ 0.09029894],\n",
            "       [ 0.5736656 ]], dtype=float32), array([3.194939], dtype=float32)]\n"
          ],
          "name": "stdout"
        }
      ]
    },
    {
      "cell_type": "code",
      "metadata": {
        "id": "Ecct6dMiIJYu",
        "colab_type": "code",
        "outputId": "b0c3a465-47f6-49e9-c4a9-0a63d5636d6f",
        "colab": {
          "base_uri": "https://localhost:8080/",
          "height": 300
        }
      },
      "source": [
        "#display training statistics\n",
        "import matplotlib.pyplot as plt\n",
        "\n",
        "plt.xlabel(\"Epoch Number\")\n",
        "plt.ylabel(\"Loss Magnitude\")\n",
        "plt.plot(history.history[\"loss\"])"
      ],
      "execution_count": 2,
      "outputs": [
        {
          "output_type": "execute_result",
          "data": {
            "text/plain": [
              "[<matplotlib.lines.Line2D at 0x7f2b16baf208>]"
            ]
          },
          "metadata": {
            "tags": []
          },
          "execution_count": 2
        },
        {
          "output_type": "display_data",
          "data": {
            "image/png": "[encoded data removed]",
            "text/plain": [
              "<Figure size 432x288 with 1 Axes>"
            ]
          },
          "metadata": {
            "tags": []
          }
        }
      ]
    }
  ]
}